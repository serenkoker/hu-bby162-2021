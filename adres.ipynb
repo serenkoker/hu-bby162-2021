{
  "nbformat": 4,
  "nbformat_minor": 0,
  "metadata": {
    "colab": {
      "name": "adres.ipynb",
      "provenance": [],
      "authorship_tag": "ABX9TyPGZ785+wkuBZfmKoKPtAcn",
      "include_colab_link": true
    },
    "kernelspec": {
      "name": "python3",
      "display_name": "Python 3"
    },
    "language_info": {
      "name": "python"
    }
  },
  "cells": [
    {
      "cell_type": "markdown",
      "metadata": {
        "id": "view-in-github",
        "colab_type": "text"
      },
      "source": [
        "<a href=\"https://colab.research.google.com/github/serenkoker/hu-bby162-2021/blob/main/adres.ipynb\" target=\"_parent\"><img src=\"https://colab.research.google.com/assets/colab-badge.svg\" alt=\"Open In Colab\"/></a>"
      ]
    },
    {
      "cell_type": "code",
      "metadata": {
        "colab": {
          "base_uri": "https://localhost:8080/"
        },
        "id": "N1GNaX5Z5WpT",
        "outputId": "c1e6a785-4d57-4610-c653-a5765744c0f5"
      },
      "source": [
        "#Google Drive Bağlantısı\n",
        "#from google.colab import drive\n",
        "#drive.mount('/gdrive')\n",
        " \n",
        "from google.colab import drive\n",
        "drive.mount('/content/drive')\n",
        "\n",
        "\n",
        "dosya = \"/content/drive/MyDrive/Colab Notebooks/adres.txt\"\n",
        " \n",
        "f = open(dosya, \"r\") \n",
        " \n",
        "for line in f.readlines():\n",
        "    print(line)\n",
        " \n",
        "f.close()"
      ],
      "execution_count": 10,
      "outputs": [
        {
          "output_type": "stream",
          "text": [
            "Drive already mounted at /content/drive; to attempt to forcibly remount, call drive.mount(\"/content/drive\", force_remount=True).\n",
            "Ad: Seren Nur\n",
            "\n",
            "Soyad: Köker\n",
            "\n",
            "e-posta: serenkoker@gmail.com\n"
          ],
          "name": "stdout"
        }
      ]
    }
  ]
}