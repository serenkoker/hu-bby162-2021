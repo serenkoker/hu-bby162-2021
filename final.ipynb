{
  "nbformat": 4,
  "nbformat_minor": 0,
  "metadata": {
    "colab": {
      "name": "final.ipynb",
      "provenance": [],
      "collapsed_sections": [],
      "mount_file_id": "1m7pDB4gCg_cM67XN1qQk3AzBIqfQgHtq",
      "authorship_tag": "ABX9TyPUakOBtMs4wHo0U9cphbRe",
      "include_colab_link": true
    },
    "kernelspec": {
      "name": "python3",
      "display_name": "Python 3"
    },
    "language_info": {
      "name": "python"
    }
  },
  "cells": [
    {
      "cell_type": "markdown",
      "metadata": {
        "id": "view-in-github",
        "colab_type": "text"
      },
      "source": [
        "<a href=\"https://colab.research.google.com/github/serenkoker/hu-bby162-2021/blob/main/final.ipynb\" target=\"_parent\"><img src=\"https://colab.research.google.com/assets/colab-badge.svg\" alt=\"Open In Colab\"/></a>"
      ]
    },
    {
      "cell_type": "markdown",
      "metadata": {
        "id": "6UfxjvKdrV2h"
      },
      "source": [
        "Final projesi-Seren Nur Köker"
      ]
    },
    {
      "cell_type": "code",
      "metadata": {
        "colab": {
          "base_uri": "https://localhost:8080/"
        },
        "id": "-DpHo2xqrRXS",
        "outputId": "d9c3ad05-3971-4878-998f-3a7764b055f5"
      },
      "source": [
        "dosya = \"/content/drive/MyDrive/final.txt\"\n",
        "print(\"Hoşgeldiniz!\")\n",
        "\n",
        "def eserListele():\n",
        "\n",
        "  acilanDosya = open(dosya, \"r\")\n",
        "  for line in acilanDosya.readlines():\n",
        "    print(line)\n",
        "\n",
        "  acilanDosya.close()\n",
        "\n",
        "\n",
        "def eserKaydet():\n",
        "\n",
        "  kitapAdi = input(\" Eser adı giriniz: \")\n",
        "  yazari = input(\" Yazar adı giriniz: \")\n",
        "  yayın = input(\" Yayınevi giriniz: \")\n",
        "  basımTarihi = input(\" Basım tarihi giriniz: \")\n",
        "  ISBN = input( \"ISBN numarası giriniz: \")\n",
        "\n",
        "  dosya = \"/content/drive/MyDrive/final.txt\"\n",
        "\n",
        "  f = open(dosya, 'a')\n",
        "  f.write(kitapAdi+ \",\" +yazari+ \".\" +yayın+ \",\" +basımTarihi+ \",\" +ISBN+ \"\\n\")\n",
        "  print(\"İşlem Tamamlandı.\")\n",
        "  f.close()\n",
        "\n",
        "def menu():\n",
        "\n",
        " while True:\n",
        "    print(\"1- Kataloğu Listele\")\n",
        "    print(\"2- Eser Ekle\")\n",
        "    print(\"3- Çıkış yap.\")\n",
        "    islem = input(\" Yapmak istediğiniz işlemi seçiniz (1/3): \")\n",
        "    if islem == \"1\":\n",
        "      eserListele()\n",
        "    elif islem == \"2\":\n",
        "      eserKaydet()\n",
        "    elif islem == \"3\":\n",
        "      print(\"Çıkış yaptınız!\")\n",
        "      break\n",
        "menu()\n",
        "\n",
        "\n",
        "\n"
      ],
      "execution_count": 26,
      "outputs": [
        {
          "output_type": "stream",
          "text": [
            "Hoşgeldiniz!\n",
            "1- Kataloğu Listele\n",
            "2- Eser Ekle\n",
            "3- Çıkış yap.\n",
            " Yapmak istediğiniz işlemi seçiniz (1/3): 1\n",
            "Sahilde Kafka, Haruki Murakami, Doğan Kitap, 2015, 9786051113869\n",
            "\n",
            "İstanbul Hatırası, Ahmet Ümit, Yapı Kredi Yayınları, 2019, 9789750845987\n",
            "\n",
            "Yalnızız, Peyami Safa, Ötüken Neşriyat, 1996, 9789754370577\n",
            "\n",
            "Şeker Portakalı, Jose Mauro De Vasconcelos, Can Yayınları, 2000, 9789750738609\n",
            "\n",
            "Fahrenheit 451, Ray Bradbury, İthaki Yayınları, 2018, 9786053757818\n",
            "1- Kataloğu Listele\n",
            "2- Eser Ekle\n",
            "3- Çıkış yap.\n",
            " Yapmak istediğiniz işlemi seçiniz (1/3): 2\n",
            " Eser adı giriniz: Kayıp Tanrılar Ülkesi\n",
            " Yazar adı giriniz:  Ahmet Ümit\n",
            " Yayınevi giriniz: Yapı Kredi Yayınları\n",
            " Basım tarihi giriniz: 2021\n",
            "ISBN numarası giriniz: 9789750850417\n",
            "İşlem Tamamlandı.\n",
            "1- Kataloğu Listele\n",
            "2- Eser Ekle\n",
            "3- Çıkış yap.\n",
            " Yapmak istediğiniz işlemi seçiniz (1/3): 3\n",
            "Çıkış yaptınız!\n"
          ],
          "name": "stdout"
        }
      ]
    },
    {
      "cell_type": "markdown",
      "metadata": {
        "id": "EvZZPMhkrT7E"
      },
      "source": [
        ""
      ]
    }
  ]
}